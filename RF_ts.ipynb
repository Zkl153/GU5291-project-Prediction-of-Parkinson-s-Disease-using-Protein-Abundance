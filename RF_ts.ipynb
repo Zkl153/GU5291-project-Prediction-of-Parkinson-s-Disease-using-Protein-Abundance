{
 "cells": [
  {
   "cell_type": "code",
   "execution_count": 2,
   "metadata": {},
   "outputs": [],
   "source": [
    "import numpy as np\n",
    "import pandas as pd\n",
    "import matplotlib.pyplot as plt"
   ]
  },
  {
   "cell_type": "code",
   "execution_count": 3,
   "metadata": {},
   "outputs": [
    {
     "name": "stdout",
     "output_type": "stream",
     "text": [
      "['0' '6' '12' '18' '24' '30' '36' '48' '54' '60' '72' '84' '108']\n",
      "['0' '108' '12' '18' '24' '30' '36' '48' '54' '6' '60' '72' '84']\n",
      "[116   2 102   2 107   1  92  95   1  51  55  16  20]\n"
     ]
    }
   ],
   "source": [
    "#read data\n",
    "dataset = pd.read_csv('/Users/zkl/Desktop/5291/project/Data_clear.csv')\n",
    "dataset_valid = dataset.dropna(thresh=1050, axis=1)\n",
    "dataset_valid = dataset_valid.dropna(axis=0)\n",
    "\n",
    "#add patient_id and visit_month variables to the dataset\n",
    "patient_month = dataset_valid['visit_id'].str.split('_', expand=True)\n",
    "dataset_valid['patient_id'] = patient_month[0]\n",
    "dataset_valid['visit_month'] = patient_month[1]"
   ]
  },
  {
   "cell_type": "code",
   "execution_count": 5,
   "metadata": {},
   "outputs": [
    {
     "name": "stderr",
     "output_type": "stream",
     "text": [
      "/Users/zkl/anaconda3/envs/python37/lib/python3.7/site-packages/ipykernel_launcher.py:17: SettingWithCopyWarning: \n",
      "A value is trying to be set on a copy of a slice from a DataFrame\n",
      "\n",
      "See the caveats in the documentation: https://pandas.pydata.org/pandas-docs/stable/user_guide/indexing.html#returning-a-view-versus-a-copy\n",
      "/Users/zkl/anaconda3/envs/python37/lib/python3.7/site-packages/ipykernel_launcher.py:18: SettingWithCopyWarning: \n",
      "A value is trying to be set on a copy of a slice from a DataFrame\n",
      "\n",
      "See the caveats in the documentation: https://pandas.pydata.org/pandas-docs/stable/user_guide/indexing.html#returning-a-view-versus-a-copy\n",
      "/Users/zkl/anaconda3/envs/python37/lib/python3.7/site-packages/ipykernel_launcher.py:19: SettingWithCopyWarning: \n",
      "A value is trying to be set on a copy of a slice from a DataFrame\n",
      "\n",
      "See the caveats in the documentation: https://pandas.pydata.org/pandas-docs/stable/user_guide/indexing.html#returning-a-view-versus-a-copy\n"
     ]
    },
    {
     "data": {
      "text/plain": [
       "(262, 161)"
      ]
     },
     "execution_count": 5,
     "metadata": {},
     "output_type": "execute_result"
    }
   ],
   "source": [
    "#create the dataset used for Random Forest with time-lag updrs score predictors\n",
    "dataset_ts = dataset_valid.sort_values('visit_id')\n",
    "dataset_ts['updrs1_lag12'] = np.nan\n",
    "dataset_ts['updrs2_lag12'] = np.nan\n",
    "dataset_ts['updrs3_lag12'] = np.nan\n",
    "dataset_ts['visit_month'] = dataset_ts['visit_month'].astype(int)\n",
    "\n",
    "#fill in the time-lag updrs scores\n",
    "for i in range(len(dataset_ts['patient_id'].unique())):\n",
    "    this_id = dataset_ts['patient_id'].unique()[i]\n",
    "    this_patient = dataset_ts[dataset_ts['patient_id'] == this_id]\n",
    "\n",
    "    if len(this_patient) > 1:\n",
    "        for j in np.arange(1,len(this_patient['visit_month'])):\n",
    "            this_month = this_patient['visit_month'].iloc[j]\n",
    "            if (this_month-12) in this_patient['visit_month'].values:\n",
    "                dataset_ts['updrs1_lag12'][(dataset_ts['patient_id']==this_id) & (dataset_ts['visit_month']==this_month)] = this_patient['updrs_1'][this_patient['visit_month']==(this_month-12)].values[0]\n",
    "                dataset_ts['updrs2_lag12'][(dataset_ts['patient_id']==this_id) & (dataset_ts['visit_month']==this_month)] = this_patient['updrs_2'][this_patient['visit_month']==(this_month-12)].values[0]\n",
    "                dataset_ts['updrs3_lag12'][(dataset_ts['patient_id']==this_id) & (dataset_ts['visit_month']==this_month)] = this_patient['updrs_3'][this_patient['visit_month']==(this_month-12)].values[0]\n",
    "\n",
    "dataset_ts.dropna(axis=0, inplace=True)\n",
    "dataset_ts.shape\n",
    "#now we have 262 samples"
   ]
  },
  {
   "cell_type": "code",
   "execution_count": 6,
   "metadata": {},
   "outputs": [],
   "source": [
    "from sklearn.model_selection import train_test_split\n",
    "\n",
    "#training and testing datasets for updrs_1\n",
    "dataset_1 = dataset_ts.drop(['patient_id','visit_month','updrs2_lag12','updrs3_lag12'], axis=1)\n",
    "X_1 = dataset_ts.iloc[:, 4:]\n",
    "Y_1 = dataset_ts['updrs_1']   \n",
    "X1_train, X1_test, Y1_train, Y1_test = train_test_split(X_1,Y_1,test_size=0.2, random_state=0)\n",
    "\n",
    "#training and testing datasets for updrs_2\n",
    "dataset_2 = dataset_ts.drop(['patient_id','visit_month','updrs1_lag12','updrs3_lag12'], axis=1)\n",
    "X_2 = dataset_ts.iloc[:, 4:]\n",
    "Y_2 = dataset_ts['updrs_2']    \n",
    "X2_train, X2_test, Y2_train, Y2_test = train_test_split(X_2,Y_2,test_size=0.2, random_state=0)\n",
    "\n",
    "#training and testing datasets for updrs_3\n",
    "dataset_3 = dataset_ts.drop(['patient_id','visit_month','updrs1_lag12','updrs2_lag12'], axis=1)\n",
    "X_3 = dataset_ts.iloc[:, 4:]\n",
    "Y_3 = dataset_ts['updrs_3']    \n",
    "X3_train, X3_test, Y3_train, Y3_test = train_test_split(X_3,Y_3,test_size=0.2, random_state=0)\n",
    "\n",
    "#Random Forest parameters to be tuned\n",
    "tuned_parameters = [\n",
    "    {'criterion':[\"squared_error\"],'n_estimators': [100,200,500,800,1000,1500],'max_depth':[None,2,4,6,8,10],'min_samples_leaf':[6,8,10,15,20],'max_features':['auto','sqrt','log2']},\n",
    "    {'criterion':['absolute_error'],'n_estimators': [100,200,500,800,1000,1500],'max_depth':[None,2,4,6,8,10],'min_samples_leaf':[6,8,10,15,20],'max_features':['auto','sqrt','log2']},\n",
    "    {'criterion':['poisson'],'n_estimators': [100,200,500,800,1000,1500],'max_depth':[None,2,4,6,8,10],'min_samples_leaf':[6,8,10,15,20],'max_features':['auto','sqrt','log2']},\n",
    "    {'criterion':['absolute_error'],'n_estimators': [100,200,500,800,1000,1500],'max_depth':[None,2,4,6,8,10],'min_samples_leaf':[6,8,10,15,20],'max_features':['auto','sqrt','log2']}\n",
    "]"
   ]
  },
  {
   "cell_type": "code",
   "execution_count": 8,
   "metadata": {},
   "outputs": [
    {
     "name": "stdout",
     "output_type": "stream",
     "text": [
      "Fitting 5 folds for each of 10 candidates, totalling 50 fits\n",
      "{'n_estimators': 200, 'min_samples_leaf': 8, 'max_features': 'auto', 'max_depth': 6, 'criterion': 'squared_error'}\n",
      "0.5333208598421753\n"
     ]
    }
   ],
   "source": [
    "from sklearn.ensemble import RandomForestRegressor\n",
    "from sklearn.model_selection import RandomizedSearchCV\n",
    "\n",
    "#model for updrs_1 regression\n",
    "np.random.seed(0)\n",
    "rfr1 = RandomForestRegressor()\n",
    "\n",
    "#use RandomizedSearchCV to find the best parameters\n",
    "clfr1 = RandomizedSearchCV(rfr1, tuned_parameters, cv=5, n_jobs=-1, verbose=2, random_state=0)\n",
    "clfr1.fit(X1_train, Y1_train)\n",
    "print('The best Random Forest hyperparameters for updrs_1 regression are:', clfr1.best_params_)\n",
    "Y1_pred = clfr1.predict(X1_test)\n",
    "\n",
    "#R2 score \n",
    "print('R2 score for updrs_1 regression:', clfr1.score(X1_test, Y1_test))\n"
   ]
  },
  {
   "cell_type": "code",
   "execution_count": 22,
   "metadata": {},
   "outputs": [],
   "source": [
    "Y1_train_pred = clfr1.predict(X1_train)\n",
    "plt.figure(figsize=(8,8))\n",
    "plt.scatter(Y1_train, Y1_train_pred, c='b')\n",
    "plt.plot([-1,26],[-1,26],c='black')\n",
    "plt.xlabel('True values', fontsize=20)\n",
    "plt.ylabel('Fitted values', fontsize=20)\n",
    "plt.title('Training for updrs 1', fontsize=20)\n",
    "plt.xlim(-1,26)\n",
    "plt.ylim(-1,26)\n",
    "#plt.show()\n",
    "plt.savefig('/Users/zkl/Desktop/5291/project/fig/updrs1_train.png', dpi=300, bbox_inches='tight')\n",
    "\n",
    "plt.figure(figsize=(8,8))\n",
    "plt.scatter(Y1_test,Y1_pred, c='red')\n",
    "plt.plot([-1,21],[-1,21],c='black')\n",
    "plt.xlabel('True values', fontsize=20)\n",
    "plt.ylabel('Predictions', fontsize=20)\n",
    "plt.title('Testing for updrs 1', fontsize=20)\n",
    "plt.xlim(-1,21)\n",
    "plt.ylim(-1,21)\n",
    "#plt.show()\n",
    "plt.savefig('/Users/zkl/Desktop/5291/project/fig/updrs1_test.png', dpi=300, bbox_inches='tight')\n"
   ]
  },
  {
   "cell_type": "code",
   "execution_count": 15,
   "metadata": {},
   "outputs": [
    {
     "name": "stdout",
     "output_type": "stream",
     "text": [
      "Fitting 5 folds for each of 10 candidates, totalling 50 fits\n",
      "The best Random Forest hyperparameters for updrs_2 regression are: {'n_estimators': 200, 'min_samples_leaf': 8, 'max_features': 'auto', 'max_depth': 6, 'criterion': 'squared_error'}\n",
      "R2 score for updrs_1 regression: 0.679913486034833\n"
     ]
    }
   ],
   "source": [
    "#model for updrs_2 regression\n",
    "np.random.seed(0)\n",
    "rfr2 = RandomForestRegressor()\n",
    "clfr2 = RandomizedSearchCV(rfr2, tuned_parameters, cv=5, n_jobs=-1, verbose=2, random_state=0)\n",
    "clfr2.fit(X2_train, Y2_train)\n",
    "print('The best Random Forest hyperparameters for updrs_2 regression are:',clfr2.best_params_)\n",
    "Y2_pred = clfr2.predict(X2_test)\n",
    "print('R2 score for updrs_2 regression:', clfr2.score(X2_test, Y2_test))"
   ]
  },
  {
   "cell_type": "code",
   "execution_count": 23,
   "metadata": {},
   "outputs": [],
   "source": [
    "Y2_train_pred = clfr2.predict(X2_train)\n",
    "plt.figure(figsize=(8,8))\n",
    "plt.scatter(Y2_train, Y2_train_pred, c='b')\n",
    "plt.plot([-1,27],[-1,27],c='black')\n",
    "plt.xlabel('True values', fontsize=20)\n",
    "plt.ylabel('Fitted values', fontsize=20)\n",
    "plt.title('Training for updrs 2', fontsize=20)\n",
    "plt.xlim(-1,27)\n",
    "plt.ylim(-1,27)\n",
    "#plt.show()\n",
    "plt.savefig('/Users/zkl/Desktop/5291/project/fig/updrs2_train.png', dpi=300, bbox_inches='tight')\n",
    "\n",
    "plt.figure(figsize=(8,8))\n",
    "plt.scatter(Y2_test,Y2_pred, c='red')\n",
    "plt.plot([-1,23],[-1,23],c='black')\n",
    "plt.xlabel('True values', fontsize=20)\n",
    "plt.ylabel('Predictions', fontsize=20)\n",
    "plt.title('Testing for updrs 2', fontsize=20)\n",
    "plt.xlim(-1,23)\n",
    "plt.ylim(-1,23)\n",
    "#plt.show()\n",
    "plt.savefig('/Users/zkl/Desktop/5291/project/fig/updrs2_test.png', dpi=300, bbox_inches='tight')\n",
    "\n"
   ]
  },
  {
   "cell_type": "code",
   "execution_count": 19,
   "metadata": {},
   "outputs": [
    {
     "name": "stdout",
     "output_type": "stream",
     "text": [
      "Fitting 5 folds for each of 10 candidates, totalling 50 fits\n",
      "The best Random Forest hyperparameters for updrs_3 regression are: {'n_estimators': 200, 'min_samples_leaf': 8, 'max_features': 'auto', 'max_depth': 6, 'criterion': 'squared_error'}\n",
      "R2 score for updrs_3 regression: 0.7570803489115185\n"
     ]
    }
   ],
   "source": [
    "#model for updrs_3 regression\n",
    "np.random.seed(0)\n",
    "rfr3 = RandomForestRegressor(random_state = 0)\n",
    "clfr3 = RandomizedSearchCV(rfr3, tuned_parameters, cv=5, n_jobs=-1, verbose=2)\n",
    "clfr3.fit(X3_train, Y3_train)\n",
    "print('The best Random Forest hyperparameters for updrs_3 regression are:',clfr3.best_params_)\n",
    "Y3_pred = clfr3.predict(X3_test)\n",
    "print('R2 score for updrs_3 regression:', clfr3.score(X3_test, Y3_test))"
   ]
  },
  {
   "cell_type": "code",
   "execution_count": 24,
   "metadata": {},
   "outputs": [],
   "source": [
    "Y3_train_pred = clfr3.predict(X3_train)\n",
    "plt.figure(figsize=(8,8))\n",
    "plt.scatter(Y3_train, Y3_train_pred, c='b')\n",
    "plt.plot([-1,90],[-1,90],c='black')\n",
    "plt.xlabel('True values', fontsize=20)\n",
    "plt.ylabel('Fitted values', fontsize=20)\n",
    "plt.title('Training for updrs 3', fontsize=20)\n",
    "plt.xlim(-1,90)\n",
    "plt.ylim(-1,90)\n",
    "#plt.show()\n",
    "plt.savefig('/Users/zkl/Desktop/5291/project/fig/updrs3_train.png', dpi=300, bbox_inches='tight')\n",
    "\n",
    "plt.figure(figsize=(8,8))\n",
    "plt.scatter(Y3_test,Y3_pred, c='red')\n",
    "plt.plot([-1,51],[-1,51],c='black')\n",
    "plt.xlabel('True values', fontsize=20)\n",
    "plt.ylabel('Predictions', fontsize=20)\n",
    "plt.title('Testing for updrs 3', fontsize=20)\n",
    "plt.xlim(-1,51)\n",
    "plt.ylim(-1,51)\n",
    "#plt.show()\n",
    "plt.savefig('/Users/zkl/Desktop/5291/project/fig/updrs3_test.png', dpi=300, bbox_inches='tight')\n",
    "\n"
   ]
  }
 ],
 "metadata": {
  "kernelspec": {
   "display_name": "python37",
   "language": "python",
   "name": "python3"
  },
  "language_info": {
   "codemirror_mode": {
    "name": "ipython",
    "version": 3
   },
   "file_extension": ".py",
   "mimetype": "text/x-python",
   "name": "python",
   "nbconvert_exporter": "python",
   "pygments_lexer": "ipython3",
   "version": "3.7.3"
  },
  "orig_nbformat": 4
 },
 "nbformat": 4,
 "nbformat_minor": 2
}
